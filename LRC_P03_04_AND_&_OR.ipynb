{
  "nbformat": 4,
  "nbformat_minor": 0,
  "metadata": {
    "colab": {
      "provenance": [],
      "include_colab_link": true
    },
    "kernelspec": {
      "name": "python3",
      "display_name": "Python 3"
    },
    "language_info": {
      "name": "python"
    }
  },
  "cells": [
    {
      "cell_type": "markdown",
      "metadata": {
        "id": "view-in-github",
        "colab_type": "text"
      },
      "source": [
        "<a href=\"https://colab.research.google.com/github/LAUROJAS3/Seminario_RN/blob/main/LRC_P03_04_AND_%26_OR.ipynb\" target=\"_parent\"><img src=\"https://colab.research.google.com/assets/colab-badge.svg\" alt=\"Open In Colab\"/></a>"
      ]
    },
    {
      "cell_type": "code",
      "source": [
        "#AND GATE\n",
        "\n",
        "data = [ [ 0, 0],\n",
        "         [ 0, 1],\n",
        "         [ 1, 0],\n",
        "         [ 1, 1] ]\n",
        "target = [0,\n",
        "          0,\n",
        "          0,\n",
        "          1 ]"
      ],
      "metadata": {
        "id": "mO7bmT50xh1s"
      },
      "execution_count": null,
      "outputs": []
    },
    {
      "cell_type": "code",
      "source": [
        "print (\"Data:\", data)\n",
        "print (\"target\", target)"
      ],
      "metadata": {
        "colab": {
          "base_uri": "https://localhost:8080/"
        },
        "id": "NG0QAIHYxm-G",
        "outputId": "852ce56e-9653-4742-d0b0-05be0605b0ae"
      },
      "execution_count": null,
      "outputs": [
        {
          "output_type": "stream",
          "name": "stdout",
          "text": [
            "Data: [[0, 0], [0, 1], [1, 0], [1, 1]]\n",
            "target [0, 0, 0, 1]\n"
          ]
        }
      ]
    },
    {
      "cell_type": "code",
      "source": [
        "from tabulate import tabulate\n",
        "\n",
        "w1 = 0.9\n",
        "w2 = 0.9\n",
        "b = 0.9\n",
        "\n",
        "lr = 0.5\n",
        "\n",
        "itreations= 3\n",
        "\n",
        "data_out = [ ]\n",
        "weigths = [ ]\n",
        "weigths.append( [w1, w2, b])\n",
        "\n",
        "for epoch in range ( itreations):\n",
        "  for x,y in zip (data, target):\n",
        "    yin = w1*x[0] + w2*x[1] + b\n",
        "\n",
        "    #función de activación\n",
        "    if ( yin >= 0.5  ):\n",
        "      yin = 1\n",
        "    else:\n",
        "      yin = 0\n",
        "\n",
        "    e = y-yin\n",
        "\n",
        "    if int(y) != int(yin):\n",
        "      w1 = w1 + lr*e*x[0]\n",
        "      w2 = w2 + lr*e*x[1]\n",
        "      b = b + lr*e\n",
        "\n",
        "      #store the update weights\n",
        "      weigths.append( [w1,w2, b])\n",
        "\n",
        "    data_out.append( [epoch, x[0], yin, y, y, e, '-', w1,w2,b, int(y) != int(yin)] )\n",
        "\n",
        "  data_out.append (['-','-','-','-','-','-','-','-','-','-'])\n",
        "\n",
        "print(tabulate ( data_out,\n",
        "                 headers=['Epoch', 'x1', 'x2', 'yin', 'y', 't', 'e','-', 'w1', 'w2','b', 'update']))"
      ],
      "metadata": {
        "colab": {
          "base_uri": "https://localhost:8080/"
        },
        "id": "1_JCSS-Sxslp",
        "outputId": "8a353918-d452-4d2e-9834-5f9e3b1a63cd"
      },
      "execution_count": null,
      "outputs": [
        {
          "output_type": "stream",
          "name": "stdout",
          "text": [
            "Epoch    x1    x2    yin    y    t    e    -    w1    w2                    b\n",
            "-------  ----  ----  -----  ---  ---  ---  ---  ----  --------------------  -----\n",
            "0        0     1     0      0    -1   -    0.9  0.9   0.4                   True\n",
            "0        0     1     0      0    -1   -    0.9  0.4   -0.09999999999999998  True\n",
            "0        1     1     0      0    -1   -    0.4  0.4   -0.6                  True\n",
            "0        1     0     1      1    1    -    0.9  0.9   -0.09999999999999998  True\n",
            "-        -     -     -      -    -    -    -    -     -\n",
            "1        0     0     0      0    0    -    0.9  0.9   -0.09999999999999998  False\n",
            "1        0     1     0      0    -1   -    0.9  0.4   -0.6                  True\n",
            "1        1     0     0      0    0    -    0.9  0.4   -0.6                  False\n",
            "1        1     1     1      1    0    -    0.9  0.4   -0.6                  False\n",
            "-        -     -     -      -    -    -    -    -     -\n",
            "2        0     0     0      0    0    -    0.9  0.4   -0.6                  False\n",
            "2        0     0     0      0    0    -    0.9  0.4   -0.6                  False\n",
            "2        1     0     0      0    0    -    0.9  0.4   -0.6                  False\n",
            "2        1     1     1      1    0    -    0.9  0.4   -0.6                  False\n",
            "-        -     -     -      -    -    -    -    -     -\n"
          ]
        }
      ]
    },
    {
      "cell_type": "code",
      "source": [
        "import numpy as np\n",
        "import matplotlib.pyplot as plt\n",
        "\n",
        "a,b,c = w1,w2,b\n",
        "\n",
        "data_arr = np.array( data )\n",
        "\n",
        "x_min = min( data_arr[: ,0 ]-1)\n",
        "x_max = max( data_arr[: ,0 ]+1)\n",
        "\n",
        "x = np.linspace(x_min, x_max, 100)\n",
        "\n",
        "\n",
        "pairs = []\n",
        "\n",
        "for ws in weigths:\n",
        "  it = []\n",
        "  for xi in  x :\n",
        "    y = (-ws[2] -ws[0]*xi) /ws[1];\n",
        "    it.append( [xi,y])\n",
        "\n",
        "  pairs.append(it)\n",
        "  print(ws)\n",
        "\n",
        "data_arr = np.array( data )\n",
        "data_arr_x = data_arr [ : , 0 ]\n",
        "data_arr_y = data_arr [ : , 1 ]\n",
        "\n",
        "pairs = np.array(pairs)\n",
        "\n",
        "plt.figure(1)\n",
        "\n",
        "fig, axis = plt.subplots(2, 3)\n",
        "\n",
        "for idx,idy in zip ( data_arr_x, data_arr_y  ):\n",
        "    axis[0,0].scatter(idx, idy )\n",
        "    axis[0,1].scatter(idx, idy )\n",
        "    axis[0,2].scatter(idx, idy )\n",
        "    axis[1,0].scatter(idx, idy )\n",
        "\n",
        "axis[0,0].scatter(pairs[0,: ,0], pairs[0, :,1] )\n",
        "axis[0,1].scatter(pairs[1,: ,0], pairs[1, :,1]  )\n",
        "axis[0,2].scatter(pairs[2,: ,0], pairs[2, :,1]  )\n",
        "axis[1,0].scatter(pairs[3,: ,0], pairs[3, :,1]  )"
      ],
      "metadata": {
        "colab": {
          "base_uri": "https://localhost:8080/",
          "height": 574
        },
        "id": "KW2TfHxBxwc-",
        "outputId": "c04145be-0b55-4dd9-c274-d1144ab97f35"
      },
      "execution_count": null,
      "outputs": [
        {
          "output_type": "stream",
          "name": "stdout",
          "text": [
            "[0.9, 0.9, 0.9]\n",
            "[0.9, 0.9, 0.4]\n",
            "[0.9, 0.4, -0.09999999999999998]\n",
            "[0.4, 0.4, -0.6]\n",
            "[0.9, 0.9, -0.09999999999999998]\n",
            "[0.9, 0.4, -0.6]\n"
          ]
        },
        {
          "output_type": "execute_result",
          "data": {
            "text/plain": [
              "<matplotlib.collections.PathCollection at 0x7d3af81a8790>"
            ]
          },
          "metadata": {},
          "execution_count": 12
        },
        {
          "output_type": "display_data",
          "data": {
            "text/plain": [
              "<Figure size 640x480 with 0 Axes>"
            ]
          },
          "metadata": {}
        },
        {
          "output_type": "display_data",
          "data": {
            "text/plain": [
              "<Figure size 640x480 with 6 Axes>"
            ],
            "image/png": "[encoded data removed]"
          },
          "metadata": {}
        }
      ]
    },
    {
      "cell_type": "code",
      "source": [
        "#OR GATE\n",
        "data = [[0, 0],\n",
        "        [0, 1],\n",
        "        [1, 0],\n",
        "        [1, 1]]\n",
        "\n",
        "target = [0,\n",
        "          1,\n",
        "          1,\n",
        "          1]"
      ],
      "metadata": {
        "id": "tkugb_AqYtsp"
      },
      "execution_count": null,
      "outputs": []
    },
    {
      "cell_type": "code",
      "source": [
        "print(\"Data:\", data)\n",
        "print(\"Target:\", target)"
      ],
      "metadata": {
        "colab": {
          "base_uri": "https://localhost:8080/"
        },
        "id": "7JlXn0pxZIQE",
        "outputId": "68c5f27f-f2ea-4524-8475-6c3d7a9eda42"
      },
      "execution_count": null,
      "outputs": [
        {
          "output_type": "stream",
          "name": "stdout",
          "text": [
            "Data: [[0, 0], [0, 1], [1, 0], [1, 1]]\n",
            "Target: [0, 1, 1, 1]\n"
          ]
        }
      ]
    },
    {
      "cell_type": "code",
      "source": [
        "from tabulate import tabulate\n",
        "\n",
        "w1 = 0.5\n",
        "w2 = 0.5\n",
        "b = 0.5\n",
        "\n",
        "lr = 0.5\n",
        "iterations = 10\n",
        "\n",
        "data_out = []\n",
        "weights = [[w1, w2, b]]\n",
        "\n",
        "for epoch in range(iterations):\n",
        "    for x, y in zip(data, target):\n",
        "        yin = w1 * x[0] + w2 * x[1] + b\n",
        "\n",
        "        # Función de activación\n",
        "        yout = 1 if yin >= 0.5 else 0\n",
        "\n",
        "        e = y - yout\n",
        "\n",
        "        if y != yout:  # Actualización de pesos\n",
        "            w1 += lr * e * x[0]\n",
        "            w2 += lr * e * x[1]\n",
        "            b += lr * e\n",
        "\n",
        "            # Guardar los pesos actualizados\n",
        "            weights.append([w1, w2, b])\n",
        "\n",
        "        data_out.append([epoch, x[0], x[1], yin, yout, y, e, w1, w2, b, y != yout])\n",
        "\n",
        "    data_out.append(['-', '-', '-', '-', '-', '-', '-', '-', '-', '-', '-'])\n",
        "\n",
        "print(tabulate(data_out, headers=['Epoch', 'x1', 'x2', 'yin', 'y', 't', 'e', 'w1', 'w2', 'b', 'update']))"
      ],
      "metadata": {
        "colab": {
          "base_uri": "https://localhost:8080/"
        },
        "id": "EVwNv69VZLQR",
        "outputId": "07511bb1-c023-45cd-c251-2f3d74d85c65"
      },
      "execution_count": null,
      "outputs": [
        {
          "output_type": "stream",
          "name": "stdout",
          "text": [
            "Epoch    x1    x2    yin    y    t    e    w1    w2    b    update\n",
            "-------  ----  ----  -----  ---  ---  ---  ----  ----  ---  --------\n",
            "0        0     0     0.5    1    0    -1   0.5   0.5   0.0  True\n",
            "0        0     1     0.5    1    1    0    0.5   0.5   0.0  False\n",
            "0        1     0     0.5    1    1    0    0.5   0.5   0.0  False\n",
            "0        1     1     1.0    1    1    0    0.5   0.5   0.0  False\n",
            "-        -     -     -      -    -    -    -     -     -    -\n",
            "1        0     0     0.0    0    0    0    0.5   0.5   0.0  False\n",
            "1        0     1     0.5    1    1    0    0.5   0.5   0.0  False\n",
            "1        1     0     0.5    1    1    0    0.5   0.5   0.0  False\n",
            "1        1     1     1.0    1    1    0    0.5   0.5   0.0  False\n",
            "-        -     -     -      -    -    -    -     -     -    -\n",
            "2        0     0     0.0    0    0    0    0.5   0.5   0.0  False\n",
            "2        0     1     0.5    1    1    0    0.5   0.5   0.0  False\n",
            "2        1     0     0.5    1    1    0    0.5   0.5   0.0  False\n",
            "2        1     1     1.0    1    1    0    0.5   0.5   0.0  False\n",
            "-        -     -     -      -    -    -    -     -     -    -\n",
            "3        0     0     0.0    0    0    0    0.5   0.5   0.0  False\n",
            "3        0     1     0.5    1    1    0    0.5   0.5   0.0  False\n",
            "3        1     0     0.5    1    1    0    0.5   0.5   0.0  False\n",
            "3        1     1     1.0    1    1    0    0.5   0.5   0.0  False\n",
            "-        -     -     -      -    -    -    -     -     -    -\n",
            "4        0     0     0.0    0    0    0    0.5   0.5   0.0  False\n",
            "4        0     1     0.5    1    1    0    0.5   0.5   0.0  False\n",
            "4        1     0     0.5    1    1    0    0.5   0.5   0.0  False\n",
            "4        1     1     1.0    1    1    0    0.5   0.5   0.0  False\n",
            "-        -     -     -      -    -    -    -     -     -    -\n",
            "5        0     0     0.0    0    0    0    0.5   0.5   0.0  False\n",
            "5        0     1     0.5    1    1    0    0.5   0.5   0.0  False\n",
            "5        1     0     0.5    1    1    0    0.5   0.5   0.0  False\n",
            "5        1     1     1.0    1    1    0    0.5   0.5   0.0  False\n",
            "-        -     -     -      -    -    -    -     -     -    -\n",
            "6        0     0     0.0    0    0    0    0.5   0.5   0.0  False\n",
            "6        0     1     0.5    1    1    0    0.5   0.5   0.0  False\n",
            "6        1     0     0.5    1    1    0    0.5   0.5   0.0  False\n",
            "6        1     1     1.0    1    1    0    0.5   0.5   0.0  False\n",
            "-        -     -     -      -    -    -    -     -     -    -\n",
            "7        0     0     0.0    0    0    0    0.5   0.5   0.0  False\n",
            "7        0     1     0.5    1    1    0    0.5   0.5   0.0  False\n",
            "7        1     0     0.5    1    1    0    0.5   0.5   0.0  False\n",
            "7        1     1     1.0    1    1    0    0.5   0.5   0.0  False\n",
            "-        -     -     -      -    -    -    -     -     -    -\n",
            "8        0     0     0.0    0    0    0    0.5   0.5   0.0  False\n",
            "8        0     1     0.5    1    1    0    0.5   0.5   0.0  False\n",
            "8        1     0     0.5    1    1    0    0.5   0.5   0.0  False\n",
            "8        1     1     1.0    1    1    0    0.5   0.5   0.0  False\n",
            "-        -     -     -      -    -    -    -     -     -    -\n",
            "9        0     0     0.0    0    0    0    0.5   0.5   0.0  False\n",
            "9        0     1     0.5    1    1    0    0.5   0.5   0.0  False\n",
            "9        1     0     0.5    1    1    0    0.5   0.5   0.0  False\n",
            "9        1     1     1.0    1    1    0    0.5   0.5   0.0  False\n",
            "-        -     -     -      -    -    -    -     -     -    -\n"
          ]
        }
      ]
    },
    {
      "cell_type": "code",
      "source": [
        "import numpy as np\n",
        "import matplotlib.pyplot as plt\n",
        "\n",
        "a,b,c = w1,w2,b\n",
        "\n",
        "data_arr = np.array(data)\n",
        "x_min = min(data_arr[:, 0]) - 1\n",
        "x_max = max(data_arr[:, 0]) + 1\n",
        "x = np.linspace(x_min, x_max, 100)\n",
        "pairs = []\n",
        "\n",
        "for ws in weights:\n",
        "    it = [[xi, (-ws[2] - ws[0] * xi) / ws[1]] for xi in x]\n",
        "    pairs.append(it)\n",
        "\n",
        "data_arr_x = data_arr[:, 0]\n",
        "data_arr_y = data_arr[:, 1]\n",
        "pairs = np.array(pairs, dtype=object)\n",
        "\n",
        "plt.figure(1)\n",
        "fig, axis = plt.subplots(2, 3)\n",
        "\n",
        "for idx, idy in zip(data_arr_x, data_arr_y):\n",
        "    axis[0, 0].scatter(idx, idy)\n",
        "    axis[0, 1].scatter(idx, idy)\n",
        "    axis[0, 2].scatter(idx, idy)\n",
        "    axis[1, 0].scatter(idx, idy)\n",
        "\n",
        "if len(pairs) > 0:\n",
        "    axis[0, 0].scatter(pairs[0, :, 0], pairs[0, :, 1])\n",
        "if len(pairs) > 1:\n",
        "    axis[0, 1].scatter(pairs[1, :, 0], pairs[1, :, 1])"
      ],
      "metadata": {
        "colab": {
          "base_uri": "https://localhost:8080/",
          "height": 448
        },
        "id": "xhhwEIfUZcJP",
        "outputId": "b51bc9fb-c05b-4666-9077-a4e313510948"
      },
      "execution_count": null,
      "outputs": [
        {
          "output_type": "display_data",
          "data": {
            "text/plain": [
              "<Figure size 640x480 with 0 Axes>"
            ]
          },
          "metadata": {}
        },
        {
          "output_type": "display_data",
          "data": {
            "text/plain": [
              "<Figure size 640x480 with 6 Axes>"
            ],
            "image/png": "[encoded data removed]"
          },
          "metadata": {}
        }
      ]
    }
  ]
}