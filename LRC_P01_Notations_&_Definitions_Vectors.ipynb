{
  "nbformat": 4,
  "nbformat_minor": 0,
  "metadata": {
    "colab": {
      "provenance": [],
      "include_colab_link": true
    },
    "kernelspec": {
      "name": "python3",
      "display_name": "Python 3"
    },
    "language_info": {
      "name": "python"
    }
  },
  "cells": [
    {
      "cell_type": "markdown",
      "metadata": {
        "id": "view-in-github",
        "colab_type": "text"
      },
      "source": [
        "<a href=\"https://colab.research.google.com/github/LAUROJAS3/Seminario_RN/blob/main/LRC_P01_Notations_%26_Definitions_Vectors.ipynb\" target=\"_parent\"><img src=\"https://colab.research.google.com/assets/colab-badge.svg\" alt=\"Open In Colab\"/></a>"
      ]
    },
    {
      "cell_type": "markdown",
      "source": [
        "#Manejo de vectores con la biblioteca Numpy\n",
        "\n",
        "Al completar este laboratorio, podrás utilizar habilidades básicas de programación con Python y el paquete `NumPy` para el manejo de vectores.\n",
        "\n",
        "\n",
        "\n"
      ],
      "metadata": {
        "id": "2RyJFSHWKhoQ"
      }
    },
    {
      "cell_type": "markdown",
      "source": [
        "## Paquetes\n",
        "Importar el paquete `NumPy` para acceder a sus funciones.\n",
        "\n"
      ],
      "metadata": {
        "id": "6LbhqCZ26y3N"
      }
    },
    {
      "cell_type": "code",
      "source": [
        "import numpy as np"
      ],
      "metadata": {
        "id": "xpri__ZoLeoE"
      },
      "execution_count": null,
      "outputs": []
    },
    {
      "cell_type": "markdown",
      "source": [
        "<a name='1'></a>\n",
        "## 1 -  Definición de Listas  utilizando autotyping de python\n",
        "\n"
      ],
      "metadata": {
        "id": "EBX8W_mjLiPG"
      }
    },
    {
      "cell_type": "code",
      "source": [
        "lista1 = [1.2, 22.4, 34.9, 45.5]\n",
        "lista2 = [6.8, 84.5, 46.3, 23.1]\n",
        "print(f\"Lista 1: {lista1} \\n\")\n",
        "print(f\"Lista 2: {lista2} \\n\")\n",
        "\n",
        "print(f\"Concatenación de listas:\")\n",
        "print(lista1 + lista2)"
      ],
      "metadata": {
        "id": "kaTTGtm266ve",
        "colab": {
          "base_uri": "https://localhost:8080/"
        },
        "outputId": "20db1bfd-df69-478f-f0d5-e8b6ecff51c3"
      },
      "execution_count": null,
      "outputs": [
        {
          "output_type": "stream",
          "name": "stdout",
          "text": [
            "Lista 1: [1.2, 22.4, 34.9, 45.5] \n",
            "\n",
            "Lista 2: [6.8, 84.5, 46.3, 23.1] \n",
            "\n",
            "Concatenación de listas:\n",
            "[1.2, 22.4, 34.9, 45.5, 6.8, 84.5, 46.3, 23.1]\n"
          ]
        }
      ]
    },
    {
      "cell_type": "markdown",
      "source": [
        "Intentemos multiplicar la lista 1 y lista 2:"
      ],
      "metadata": {
        "id": "Uq3TQG4iNYhg"
      }
    },
    {
      "cell_type": "code",
      "source": [
        "lista3 =  lista1 * lista2"
      ],
      "metadata": {
        "colab": {
          "base_uri": "https://localhost:8080/",
          "height": 175
        },
        "id": "opGgR82JNcQc",
        "outputId": "8c4af49f-3e1d-4974-ed9f-c3c98c5a03e4"
      },
      "execution_count": null,
      "outputs": [
        {
          "output_type": "error",
          "ename": "TypeError",
          "evalue": "ignored",
          "traceback": [
            "\u001b[0;31m---------------------------------------------------------------------------\u001b[0m",
            "\u001b[0;31mTypeError\u001b[0m                                 Traceback (most recent call last)",
            "\u001b[0;32m<ipython-input-27-eb4125b9d9dd>\u001b[0m in \u001b[0;36m<cell line: 1>\u001b[0;34m()\u001b[0m\n\u001b[0;32m----> 1\u001b[0;31m \u001b[0mlista3\u001b[0m \u001b[0;34m=\u001b[0m  \u001b[0mlista1\u001b[0m \u001b[0;34m*\u001b[0m \u001b[0mlista2\u001b[0m\u001b[0;34m\u001b[0m\u001b[0;34m\u001b[0m\u001b[0m\n\u001b[0m",
            "\u001b[0;31mTypeError\u001b[0m: can't multiply sequence by non-int of type 'list'"
          ]
        }
      ]
    },
    {
      "cell_type": "markdown",
      "source": [
        "Nos marca un error,  esto es por que  para realizar aritmetica con vectores necesitamos hacer uso de una biblioteca especializada.\n",
        "\n",
        "1) Crear arreglos (vectores) con Numpy con el metodo np.array"
      ],
      "metadata": {
        "id": "EzHECDFWNvmK"
      }
    },
    {
      "cell_type": "code",
      "source": [
        "np_list1 = np.array(lista1)\n",
        "np_list2 = np.array(lista2)\n",
        "\n",
        "print(f\"Convirtiendo a vectores numpty:\")\n",
        "\n",
        "print(f\" Tipo de lista1 {type(lista1)} --> {type(np_list1)}\")\n",
        "print(f\" Tipo de lista1 {type(lista2)} --> {type(np_list2)}\")\n",
        "\n",
        "print(f\"\\nContenido:\\n\")\n",
        "print(f\" {np_list1}\")\n",
        "print(f\" {np_list2}\")"
      ],
      "metadata": {
        "colab": {
          "base_uri": "https://localhost:8080/"
        },
        "id": "aJ3jFINKNzDy",
        "outputId": "8d133a13-cb7b-4cdc-d4fa-a28925c8bf9d"
      },
      "execution_count": null,
      "outputs": [
        {
          "output_type": "stream",
          "name": "stdout",
          "text": [
            "Convirtiendo a vectores numpty:\n",
            " Tipo de lista1 <class 'list'> --> <class 'numpy.ndarray'>\n",
            " Tipo de lista1 <class 'list'> --> <class 'numpy.ndarray'>\n",
            "\n",
            "Contenido:\n",
            "\n",
            " [ 1.2 22.4 34.9 45.5]\n",
            " [ 6.8 84.5 46.3 23.1]\n"
          ]
        }
      ]
    },
    {
      "cell_type": "markdown",
      "source": [
        "Una vez definidos los arreglos como numpy arrays, podemos hacer uso de varios metodos:\n",
        "\n",
        "##Valor mínimo en el arreglo : $min(x)$ :  `np.min`\n"
      ],
      "metadata": {
        "id": "ZauNU5TkN_7D"
      }
    },
    {
      "cell_type": "code",
      "source": [
        "min_val_list1 =  np.min( np_list1)\n",
        "min_val_list2 =  np.min( np_list2)\n",
        "\n",
        "print(f\"\\nValores minimos:\\n\")\n",
        "print(f\" Valor minimo lista1 : {min_val_list1}\")\n",
        "print(f\" Valor minimo lista2 : {min_val_list2}\")\n"
      ],
      "metadata": {
        "colab": {
          "base_uri": "https://localhost:8080/"
        },
        "id": "3szUk62XQvtK",
        "outputId": "b2ccad43-bfac-4b05-810b-abbe407826df"
      },
      "execution_count": null,
      "outputs": [
        {
          "output_type": "stream",
          "name": "stdout",
          "text": [
            "\n",
            "Valores minimos:\n",
            "\n",
            " Valor minimo lista1 : 1.2\n",
            " Valor minimo lista2 : 6.8\n"
          ]
        }
      ]
    },
    {
      "cell_type": "markdown",
      "source": [
        "##Valor máximo en el arreglo : $max(x)$ :  `np.max`"
      ],
      "metadata": {
        "id": "ewPkQe63RI4i"
      }
    },
    {
      "cell_type": "code",
      "source": [
        "max_val_list1 =  np.max( np_list1)\n",
        "max_val_list2 =  np.max( np_list2)\n",
        "\n",
        "print(f\"\\nValores máximos:\\n\")\n",
        "print(f\" Valor máximo lista1 : {max_val_list1}\")\n",
        "print(f\" Valor máximo lista2 : {max_val_list2}\")"
      ],
      "metadata": {
        "colab": {
          "base_uri": "https://localhost:8080/"
        },
        "id": "WllHfMfuROeH",
        "outputId": "3d206db9-d9cf-48a2-c05e-c6ba69eacb9a"
      },
      "execution_count": null,
      "outputs": [
        {
          "output_type": "stream",
          "name": "stdout",
          "text": [
            "\n",
            "Valores máximos:\n",
            "\n",
            " Valor máximo lista1 : 45.5\n",
            " Valor máximo lista2 : 84.5\n"
          ]
        }
      ]
    },
    {
      "cell_type": "markdown",
      "source": [
        "##Ordena los elementos del arreglo de menor a mayor: `np.sort`"
      ],
      "metadata": {
        "id": "_RNFCKgunN47"
      }
    },
    {
      "cell_type": "code",
      "source": [
        "sort_list1 =  np.sort( np_list1)\n",
        "sort_list2 =  np.sort( np_list2)\n",
        "\n",
        "print(f\"\\nAreglos ordenados:\\n\")\n",
        "print(f\" Sort list1 : {sort_list1}\")\n",
        "print(f\" Sort list2 : {sort_list2}\")"
      ],
      "metadata": {
        "colab": {
          "base_uri": "https://localhost:8080/"
        },
        "id": "tRb9UT-cSrl0",
        "outputId": "2afcda0e-0458-4e39-897c-1659b83ed7b8"
      },
      "execution_count": null,
      "outputs": [
        {
          "output_type": "stream",
          "name": "stdout",
          "text": [
            "\n",
            "Areglos ordenados:\n",
            "\n",
            " Sort list1 : [ 1.2 22.4 34.9 45.5]\n",
            " Sort list2 : [ 6.8 23.1 46.3 84.5]\n"
          ]
        }
      ]
    },
    {
      "cell_type": "markdown",
      "source": [
        "## Redondeo los elementos del arreglo : `np.round`"
      ],
      "metadata": {
        "id": "K5h3B-U_azLb"
      }
    },
    {
      "cell_type": "code",
      "source": [
        "round_list1 =  np.round( np_list1)\n",
        "round_list2 =  np.round( np_list2)\n",
        "\n",
        "print(f\"\\nAreglos redondeados:\\n\")\n",
        "print(f\" Sort list1 : {round_list1}\")\n",
        "print(f\" Sort list2 : {round_list2}\")"
      ],
      "metadata": {
        "id": "rg4J28TWSzjw",
        "colab": {
          "base_uri": "https://localhost:8080/"
        },
        "outputId": "efe54f58-51fe-4e46-a91d-0055aa27e8d4"
      },
      "execution_count": null,
      "outputs": [
        {
          "output_type": "stream",
          "name": "stdout",
          "text": [
            "\n",
            "Areglos redondeados:\n",
            "\n",
            " Sort list1 : [ 1. 22. 35. 46.]\n",
            " Sort list2 : [ 7. 84. 46. 23.]\n"
          ]
        }
      ]
    },
    {
      "cell_type": "markdown",
      "source": [
        "## Suma los elementos del arreglo  : `np.sum`"
      ],
      "metadata": {
        "id": "xxT_JwC4b0yr"
      }
    },
    {
      "cell_type": "code",
      "source": [
        "sum_list1 =  np.sum( np_list1)\n",
        "sum_list2 =  np.sum( np_list2)\n",
        "\n",
        "print(f\"\\nSuma de los arreglos:\\n\")\n",
        "print(f\" Suma list1 : {sum_list1}\")\n",
        "print(f\" Suma list2 : {sum_list2}\")"
      ],
      "metadata": {
        "colab": {
          "base_uri": "https://localhost:8080/"
        },
        "id": "qyC5CQXQS1mk",
        "outputId": "c1a28b02-17bc-4c81-f630-5204c585fc99"
      },
      "execution_count": null,
      "outputs": [
        {
          "output_type": "stream",
          "name": "stdout",
          "text": [
            "\n",
            "Suma de los arreglos:\n",
            "\n",
            " Suma list1 : 104.0\n",
            " Suma list2 : 160.7\n"
          ]
        }
      ]
    }
  ]
}