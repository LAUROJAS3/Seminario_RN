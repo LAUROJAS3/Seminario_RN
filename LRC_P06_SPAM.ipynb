{
  "nbformat": 4,
  "nbformat_minor": 0,
  "metadata": {
    "colab": {
      "provenance": [],
      "include_colab_link": true
    },
    "kernelspec": {
      "name": "python3",
      "display_name": "Python 3"
    },
    "language_info": {
      "name": "python"
    }
  },
  "cells": [
    {
      "cell_type": "markdown",
      "metadata": {
        "id": "view-in-github",
        "colab_type": "text"
      },
      "source": [
        "<a href=\"https://colab.research.google.com/github/LAUROJAS3/Seminario_RN/blob/main/LRC_P06_SPAM.ipynb\" target=\"_parent\"><img src=\"https://colab.research.google.com/assets/colab-badge.svg\" alt=\"Open In Colab\"/></a>"
      ]
    },
    {
      "cell_type": "markdown",
      "source": [
        "[texto del enlace](https://)**DETECTANDO SPAM**"
      ],
      "metadata": {
        "id": "1xpdGka0geqQ"
      }
    },
    {
      "cell_type": "code",
      "source": [
        "#SPAM\n",
        "\n",
        "data = [[1, 1],\n",
        "        [2, 1],\n",
        "        [0, 0],\n",
        "        [0, 2],\n",
        "        [0, 1],\n",
        "        [1, 0],\n",
        "        [2, 2],\n",
        "        [2, 0],\n",
        "        [1, 2]]\n",
        "\n",
        "\n",
        "target = [ 1,\n",
        "           1,\n",
        "           0,\n",
        "           1,\n",
        "           0,\n",
        "           0,\n",
        "           1,\n",
        "           1,\n",
        "           1]"
      ],
      "metadata": {
        "id": "PFMuhJaglYzq"
      },
      "execution_count": null,
      "outputs": []
    },
    {
      "cell_type": "code",
      "source": [
        "print(\"data\", data)\n",
        "print(\"target\", target)"
      ],
      "metadata": {
        "colab": {
          "base_uri": "https://localhost:8080/"
        },
        "id": "wWSYU8M9h5mz",
        "outputId": "4b18c534-980f-4062-f1ed-0cf1cd3269c0"
      },
      "execution_count": null,
      "outputs": [
        {
          "output_type": "stream",
          "name": "stdout",
          "text": [
            "data [[1, 1], [2, 1], [0, 0], [0, 2], [0, 1], [1, 0], [2, 2], [2, 0], [1, 2]]\n",
            "target [1, 1, 0, 1, 0, 0, 1, 1, 1]\n"
          ]
        }
      ]
    },
    {
      "cell_type": "code",
      "source": [
        "from tabulate import tabulate\n",
        "\n",
        "w1 = 0.9\n",
        "w2 = 0.9\n",
        "b = 0.9\n",
        "\n",
        "lr = 0.5\n",
        "\n",
        "iterations = 10\n",
        "\n",
        "data_out = []\n",
        "weights = [[w1, w2, b]]\n",
        "\n",
        "for epoch in range(iterations):\n",
        "    for x, y in zip(data, target):\n",
        "        yin = w1 * x[0] + w2 * x[1] + b\n",
        "\n",
        "        # Función de activación\n",
        "        if ( yin >= 0.5  ):\n",
        "          yin = 1\n",
        "        else:\n",
        "            yin = 0\n",
        "\n",
        "        e = y - yin\n",
        "\n",
        "        if y != yin:  # Actualización de pesos\n",
        "            w1 += lr * e * x[0]\n",
        "            w2 += lr * e * x[1]\n",
        "            b += lr * e\n",
        "\n",
        "            # Guardar los pesos actualizados\n",
        "            weights.append([w1, w2, b])\n",
        "\n",
        "        data_out.append([epoch, x[0], x[1], yin, yin, y, e, w1, w2, b, int(y) != int(yin)])\n",
        "\n",
        "    data_out.append(['-', '-', '-', '-', '-', '-', '-', '-', '-', '-', '-'])\n",
        "\n",
        "print(tabulate(data_out, headers=['Epoch', 'x1', 'x2', 'yin', 'y', 't', 'e', 'w1', 'w2', 'b', 'update']))"
      ],
      "metadata": {
        "colab": {
          "base_uri": "https://localhost:8080/"
        },
        "id": "VAwD_ayAiryG",
        "outputId": "f49b127b-138b-486c-8a76-6ea51a049613"
      },
      "execution_count": null,
      "outputs": [
        {
          "output_type": "stream",
          "name": "stdout",
          "text": [
            "Epoch    x1    x2    yin    y    t    e    w1                  w2                  b                     update\n",
            "-------  ----  ----  -----  ---  ---  ---  ------------------  ------------------  --------------------  --------\n",
            "0        1     1     1      1    1    0    0.9                 0.9                 0.9                   False\n",
            "0        2     1     1      1    1    0    0.9                 0.9                 0.9                   False\n",
            "0        0     0     1      1    0    -1   0.9                 0.9                 0.4                   True\n",
            "0        0     2     1      1    1    0    0.9                 0.9                 0.4                   False\n",
            "0        0     1     1      1    0    -1   0.9                 0.4                 -0.09999999999999998  True\n",
            "0        1     0     1      1    0    -1   0.4                 0.4                 -0.6                  True\n",
            "0        2     2     1      1    1    0    0.4                 0.4                 -0.6                  False\n",
            "0        2     0     0      0    1    1    1.4                 0.4                 -0.09999999999999998  True\n",
            "0        1     2     1      1    1    0    1.4                 0.4                 -0.09999999999999998  False\n",
            "-        -     -     -      -    -    -    -                   -                   -                     -\n",
            "1        1     1     1      1    1    0    1.4                 0.4                 -0.09999999999999998  False\n",
            "1        2     1     1      1    1    0    1.4                 0.4                 -0.09999999999999998  False\n",
            "1        0     0     0      0    0    0    1.4                 0.4                 -0.09999999999999998  False\n",
            "1        0     2     1      1    1    0    1.4                 0.4                 -0.09999999999999998  False\n",
            "1        0     1     0      0    0    0    1.4                 0.4                 -0.09999999999999998  False\n",
            "1        1     0     1      1    0    -1   0.8999999999999999  0.4                 -0.6                  True\n",
            "1        2     2     1      1    1    0    0.8999999999999999  0.4                 -0.6                  False\n",
            "1        2     0     1      1    1    0    0.8999999999999999  0.4                 -0.6                  False\n",
            "1        1     2     1      1    1    0    0.8999999999999999  0.4                 -0.6                  False\n",
            "-        -     -     -      -    -    -    -                   -                   -                     -\n",
            "2        1     1     1      1    1    0    0.8999999999999999  0.4                 -0.6                  False\n",
            "2        2     1     1      1    1    0    0.8999999999999999  0.4                 -0.6                  False\n",
            "2        0     0     0      0    0    0    0.8999999999999999  0.4                 -0.6                  False\n",
            "2        0     2     0      0    1    1    0.8999999999999999  1.4                 -0.09999999999999998  True\n",
            "2        0     1     1      1    0    -1   0.8999999999999999  0.8999999999999999  -0.6                  True\n",
            "2        1     0     0      0    0    0    0.8999999999999999  0.8999999999999999  -0.6                  False\n",
            "2        2     2     1      1    1    0    0.8999999999999999  0.8999999999999999  -0.6                  False\n",
            "2        2     0     1      1    1    0    0.8999999999999999  0.8999999999999999  -0.6                  False\n",
            "2        1     2     1      1    1    0    0.8999999999999999  0.8999999999999999  -0.6                  False\n",
            "-        -     -     -      -    -    -    -                   -                   -                     -\n",
            "3        1     1     1      1    1    0    0.8999999999999999  0.8999999999999999  -0.6                  False\n",
            "3        2     1     1      1    1    0    0.8999999999999999  0.8999999999999999  -0.6                  False\n",
            "3        0     0     0      0    0    0    0.8999999999999999  0.8999999999999999  -0.6                  False\n",
            "3        0     2     1      1    1    0    0.8999999999999999  0.8999999999999999  -0.6                  False\n",
            "3        0     1     0      0    0    0    0.8999999999999999  0.8999999999999999  -0.6                  False\n",
            "3        1     0     0      0    0    0    0.8999999999999999  0.8999999999999999  -0.6                  False\n",
            "3        2     2     1      1    1    0    0.8999999999999999  0.8999999999999999  -0.6                  False\n",
            "3        2     0     1      1    1    0    0.8999999999999999  0.8999999999999999  -0.6                  False\n",
            "3        1     2     1      1    1    0    0.8999999999999999  0.8999999999999999  -0.6                  False\n",
            "-        -     -     -      -    -    -    -                   -                   -                     -\n",
            "4        1     1     1      1    1    0    0.8999999999999999  0.8999999999999999  -0.6                  False\n",
            "4        2     1     1      1    1    0    0.8999999999999999  0.8999999999999999  -0.6                  False\n",
            "4        0     0     0      0    0    0    0.8999999999999999  0.8999999999999999  -0.6                  False\n",
            "4        0     2     1      1    1    0    0.8999999999999999  0.8999999999999999  -0.6                  False\n",
            "4        0     1     0      0    0    0    0.8999999999999999  0.8999999999999999  -0.6                  False\n",
            "4        1     0     0      0    0    0    0.8999999999999999  0.8999999999999999  -0.6                  False\n",
            "4        2     2     1      1    1    0    0.8999999999999999  0.8999999999999999  -0.6                  False\n",
            "4        2     0     1      1    1    0    0.8999999999999999  0.8999999999999999  -0.6                  False\n",
            "4        1     2     1      1    1    0    0.8999999999999999  0.8999999999999999  -0.6                  False\n",
            "-        -     -     -      -    -    -    -                   -                   -                     -\n",
            "5        1     1     1      1    1    0    0.8999999999999999  0.8999999999999999  -0.6                  False\n",
            "5        2     1     1      1    1    0    0.8999999999999999  0.8999999999999999  -0.6                  False\n",
            "5        0     0     0      0    0    0    0.8999999999999999  0.8999999999999999  -0.6                  False\n",
            "5        0     2     1      1    1    0    0.8999999999999999  0.8999999999999999  -0.6                  False\n",
            "5        0     1     0      0    0    0    0.8999999999999999  0.8999999999999999  -0.6                  False\n",
            "5        1     0     0      0    0    0    0.8999999999999999  0.8999999999999999  -0.6                  False\n",
            "5        2     2     1      1    1    0    0.8999999999999999  0.8999999999999999  -0.6                  False\n",
            "5        2     0     1      1    1    0    0.8999999999999999  0.8999999999999999  -0.6                  False\n",
            "5        1     2     1      1    1    0    0.8999999999999999  0.8999999999999999  -0.6                  False\n",
            "-        -     -     -      -    -    -    -                   -                   -                     -\n",
            "6        1     1     1      1    1    0    0.8999999999999999  0.8999999999999999  -0.6                  False\n",
            "6        2     1     1      1    1    0    0.8999999999999999  0.8999999999999999  -0.6                  False\n",
            "6        0     0     0      0    0    0    0.8999999999999999  0.8999999999999999  -0.6                  False\n",
            "6        0     2     1      1    1    0    0.8999999999999999  0.8999999999999999  -0.6                  False\n",
            "6        0     1     0      0    0    0    0.8999999999999999  0.8999999999999999  -0.6                  False\n",
            "6        1     0     0      0    0    0    0.8999999999999999  0.8999999999999999  -0.6                  False\n",
            "6        2     2     1      1    1    0    0.8999999999999999  0.8999999999999999  -0.6                  False\n",
            "6        2     0     1      1    1    0    0.8999999999999999  0.8999999999999999  -0.6                  False\n",
            "6        1     2     1      1    1    0    0.8999999999999999  0.8999999999999999  -0.6                  False\n",
            "-        -     -     -      -    -    -    -                   -                   -                     -\n",
            "7        1     1     1      1    1    0    0.8999999999999999  0.8999999999999999  -0.6                  False\n",
            "7        2     1     1      1    1    0    0.8999999999999999  0.8999999999999999  -0.6                  False\n",
            "7        0     0     0      0    0    0    0.8999999999999999  0.8999999999999999  -0.6                  False\n",
            "7        0     2     1      1    1    0    0.8999999999999999  0.8999999999999999  -0.6                  False\n",
            "7        0     1     0      0    0    0    0.8999999999999999  0.8999999999999999  -0.6                  False\n",
            "7        1     0     0      0    0    0    0.8999999999999999  0.8999999999999999  -0.6                  False\n",
            "7        2     2     1      1    1    0    0.8999999999999999  0.8999999999999999  -0.6                  False\n",
            "7        2     0     1      1    1    0    0.8999999999999999  0.8999999999999999  -0.6                  False\n",
            "7        1     2     1      1    1    0    0.8999999999999999  0.8999999999999999  -0.6                  False\n",
            "-        -     -     -      -    -    -    -                   -                   -                     -\n",
            "8        1     1     1      1    1    0    0.8999999999999999  0.8999999999999999  -0.6                  False\n",
            "8        2     1     1      1    1    0    0.8999999999999999  0.8999999999999999  -0.6                  False\n",
            "8        0     0     0      0    0    0    0.8999999999999999  0.8999999999999999  -0.6                  False\n",
            "8        0     2     1      1    1    0    0.8999999999999999  0.8999999999999999  -0.6                  False\n",
            "8        0     1     0      0    0    0    0.8999999999999999  0.8999999999999999  -0.6                  False\n",
            "8        1     0     0      0    0    0    0.8999999999999999  0.8999999999999999  -0.6                  False\n",
            "8        2     2     1      1    1    0    0.8999999999999999  0.8999999999999999  -0.6                  False\n",
            "8        2     0     1      1    1    0    0.8999999999999999  0.8999999999999999  -0.6                  False\n",
            "8        1     2     1      1    1    0    0.8999999999999999  0.8999999999999999  -0.6                  False\n",
            "-        -     -     -      -    -    -    -                   -                   -                     -\n",
            "9        1     1     1      1    1    0    0.8999999999999999  0.8999999999999999  -0.6                  False\n",
            "9        2     1     1      1    1    0    0.8999999999999999  0.8999999999999999  -0.6                  False\n",
            "9        0     0     0      0    0    0    0.8999999999999999  0.8999999999999999  -0.6                  False\n",
            "9        0     2     1      1    1    0    0.8999999999999999  0.8999999999999999  -0.6                  False\n",
            "9        0     1     0      0    0    0    0.8999999999999999  0.8999999999999999  -0.6                  False\n",
            "9        1     0     0      0    0    0    0.8999999999999999  0.8999999999999999  -0.6                  False\n",
            "9        2     2     1      1    1    0    0.8999999999999999  0.8999999999999999  -0.6                  False\n",
            "9        2     0     1      1    1    0    0.8999999999999999  0.8999999999999999  -0.6                  False\n",
            "9        1     2     1      1    1    0    0.8999999999999999  0.8999999999999999  -0.6                  False\n",
            "-        -     -     -      -    -    -    -                   -                   -                     -\n"
          ]
        }
      ]
    },
    {
      "cell_type": "code",
      "source": [
        "import numpy as np\n",
        "import matplotlib.pyplot as plt\n",
        "\n",
        "a,b,c = w1,w2,b\n",
        "\n",
        "data_arr = np.array( data )\n",
        "\n",
        "x_min = min( data_arr[: ,0 ]-1)\n",
        "x_max = max( data_arr[: ,0 ]+1)\n",
        "\n",
        "x = np.linspace(x_min, x_max, 100)\n",
        "\n",
        "\n",
        "pairs = []\n",
        "\n",
        "for ws in weights:\n",
        "  it = []\n",
        "  #[w1, w2, b]\n",
        "  for xi in  x :\n",
        "    y = (-ws[2] -ws[0]*xi) /ws[1];\n",
        "    it.append( [xi,y])\n",
        "\n",
        "  pairs.append(it)\n",
        "\n",
        "data_arr = np.array( data )\n",
        "data_arr_x = data_arr [:, 0]\n",
        "data_arr_y = data_arr [:, 1]\n",
        "\n",
        "pairs = np.array(pairs)\n",
        "\n",
        "fig, axis = plt.subplots(2, 3)\n",
        "\n",
        "for idx,idy in zip ( data_arr_x, data_arr_y  ):\n",
        "    axis[0,0].scatter(idx, idy )\n",
        "    axis[0,1].scatter(idx, idy )\n",
        "    axis[0,2].scatter(idx, idy )\n",
        "    axis[1,0].scatter(idx, idy )\n",
        "\n",
        "axis[0,0].scatter(pairs[0,: ,0], pairs[0, :,1] )\n",
        "axis[0,1].scatter(pairs[1,: ,0], pairs[1, :,1]  )\n",
        "axis[0,2].scatter(pairs[2,: ,0], pairs[2, :,1]  )\n",
        "axis[1,0].scatter(pairs[3,: ,0], pairs[3, :,1]  )"
      ],
      "metadata": {
        "colab": {
          "base_uri": "https://localhost:8080/",
          "height": 447
        },
        "id": "aogg8KO76RGs",
        "outputId": "9162dfe6-9332-45f5-ce86-65057a3882a7"
      },
      "execution_count": null,
      "outputs": [
        {
          "output_type": "execute_result",
          "data": {
            "text/plain": [
              "<matplotlib.collections.PathCollection at 0x7a2fd8ab90d0>"
            ]
          },
          "metadata": {},
          "execution_count": 8
        },
        {
          "output_type": "display_data",
          "data": {
            "text/plain": [
              "<Figure size 640x480 with 6 Axes>"
            ],
            "image/png": "[encoded data removed]"
          },
          "metadata": {}
        }
      ]
    }
  ]
}