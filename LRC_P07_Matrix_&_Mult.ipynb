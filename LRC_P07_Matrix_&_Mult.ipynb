{
  "nbformat": 4,
  "nbformat_minor": 0,
  "metadata": {
    "colab": {
      "provenance": [],
      "authorship_tag": "ABX9TyO9MIXbTHfR764gp+MWsqA0",
      "include_colab_link": true
    },
    "kernelspec": {
      "name": "python3",
      "display_name": "Python 3"
    },
    "language_info": {
      "name": "python"
    }
  },
  "cells": [
    {
      "cell_type": "markdown",
      "metadata": {
        "id": "view-in-github",
        "colab_type": "text"
      },
      "source": [
        "<a href=\"https://colab.research.google.com/github/LAUROJAS3/Seminario_RN/blob/main/LRC_P07_Matrix_%26_Mult.ipynb\" target=\"_parent\"><img src=\"https://colab.research.google.com/assets/colab-badge.svg\" alt=\"Open In Colab\"/></a>"
      ]
    },
    {
      "cell_type": "markdown",
      "source": [
        "#Multiplicacion de Matrices"
      ],
      "metadata": {
        "id": "bbL_wdLX17HZ"
      }
    },
    {
      "cell_type": "markdown",
      "source": [
        "En este laboratorio, se utilizaran las funciones de `NumPy` para realizar la multiplicacion de matrices y se vera como se puede aplicar en las aplicaciones de aprendizaje automatico."
      ],
      "metadata": {
        "id": "sOUz4Ooq184B"
      }
    },
    {
      "cell_type": "markdown",
      "source": [
        "#Tabla de Contenido\n",
        "- [ 1 - Definicion de la Multiplicacion de Matrices](#1)\n",
        "- [ 2 - Multiplocacion de Matrices con Python](#2)\n",
        "- [ 3 - Convencion de Matrices y Difusion(Broadcasting)](#3)\n"
      ],
      "metadata": {
        "id": "Zl15lRG72Aw5"
      }
    },
    {
      "cell_type": "markdown",
      "source": [
        "# Paquetes"
      ],
      "metadata": {
        "id": "xtiVODZY2E7x"
      }
    },
    {
      "cell_type": "markdown",
      "source": [
        "Carga el paquete `NumPy` para acceder a sus funciones."
      ],
      "metadata": {
        "id": "X-grgeS_2IVg"
      }
    },
    {
      "cell_type": "code",
      "source": [
        "import numpy as np"
      ],
      "metadata": {
        "id": "3rzWrFT52N5Z"
      },
      "execution_count": null,
      "outputs": []
    },
    {
      "cell_type": "markdown",
      "source": [
        "<a name='2'></a>\n",
        "## 1 - Definicion de la Multiplicacion de Matrices"
      ],
      "metadata": {
        "id": "k8CS0yzR2UNK"
      }
    },
    {
      "cell_type": "markdown",
      "source": [
        "Si $A$ es una matriz de dimensiones $m \\times n$ y $B$ es una matriz de dimensiones $n \\times p$, el producto matricial $C = AB$ (denotado sin signos de multiplicación ni puntos) se define como la matriz de dimensiones $m \\times p$ tal que:\n",
        "\n",
        "\n",
        "$c_{ij}=a_{i1}b_{1j}+a_{i2}b_{2j}+ ... +a_{in}b_{nj}=\\sum_{k=1}^{n} a_{ik}b_{kj}, \\tag{4}$\n",
        "\n",
        "\n",
        "donde $a_{ik}$ son los elementos de la matriz $A$, $b_{kj}$ son los elementos de la matriz $B$, e $i = 1, ..., m$, $k=1, ... , n$, $j = 1, ..., p$. En otras palabras, $c_{ij}$ es el producto punto de la $i$-esima fila de $A$ y la $j$-esima columna de $B$."
      ],
      "metadata": {
        "id": "tgrDYFy22Oeh"
      }
    },
    {
      "cell_type": "markdown",
      "source": [
        "<a name='2'></a>\n",
        "## 2 - Multiplicacion de Matrices con Python\n",
        "\n",
        "Al igual que con el producto punto, hay varias formas de realizar la multiplicacioon de matrices en Python. Como se discutió en el laboratorio anterior, los cálculos son más eficientes en la forma vectorizada. Analicemos las funciones mas comúnmente utilizadas en la forma vectorizada. Primero, definamos dos matrices:"
      ],
      "metadata": {
        "id": "5Mtf2VBN2a9p"
      }
    },
    {
      "cell_type": "code",
      "source": [
        "A=np.array([[4,9,9],[9,1,6],[9,2,3]])\n",
        "print(\"Matrix A (3 x 3):\\n\",A)\n",
        "\n",
        "B=np.array([[2,2],[5,7],[4,4]])\n",
        "print(\"Matrix B (3 x 3):\\n\",B)"
      ],
      "metadata": {
        "colab": {
          "base_uri": "https://localhost:8080/"
        },
        "id": "0IFl_vAM2yxD",
        "outputId": "966f58a1-36f9-4779-8d2b-2adce6103626"
      },
      "execution_count": null,
      "outputs": [
        {
          "output_type": "stream",
          "name": "stdout",
          "text": [
            "Matrix A (3 x 3):\n",
            " [[4 9 9]\n",
            " [9 1 6]\n",
            " [9 2 3]]\n",
            "Matrix B (3 x 3):\n",
            " [[2 2]\n",
            " [5 7]\n",
            " [4 4]]\n"
          ]
        }
      ]
    },
    {
      "cell_type": "markdown",
      "source": [
        "Puedes multiplicar las matrices $A$ y $B$ utilizando la función `np.matmul()` del paquete `NumPy`:"
      ],
      "metadata": {
        "id": "RQzIEfQL2zxx"
      }
    },
    {
      "cell_type": "code",
      "source": [
        "np.matmul(A,B)"
      ],
      "metadata": {
        "colab": {
          "base_uri": "https://localhost:8080/"
        },
        "id": "02F9gj0d238p",
        "outputId": "d6a196fa-9d34-4870-ba35-6ed4d9642feb"
      },
      "execution_count": null,
      "outputs": [
        {
          "output_type": "execute_result",
          "data": {
            "text/plain": [
              "array([[ 89, 107],\n",
              "       [ 47,  49],\n",
              "       [ 40,  44]])"
            ]
          },
          "metadata": {},
          "execution_count": 4
        }
      ]
    },
    {
      "cell_type": "markdown",
      "source": [
        "Esto producirá una matriz de $3 \\times 2$ como un `np.array`. El operador `@` de Python también funcionará aquí, dando el mismo resultado:"
      ],
      "metadata": {
        "id": "Wj2cmnPF28xp"
      }
    },
    {
      "cell_type": "code",
      "source": [
        "A@B"
      ],
      "metadata": {
        "colab": {
          "base_uri": "https://localhost:8080/"
        },
        "id": "UbUYnySH29gZ",
        "outputId": "6fd8a883-8a8f-4cc0-e116-86f0d7f43a71"
      },
      "execution_count": null,
      "outputs": [
        {
          "output_type": "execute_result",
          "data": {
            "text/plain": [
              "array([[ 89, 107],\n",
              "       [ 47,  49],\n",
              "       [ 40,  44]])"
            ]
          },
          "metadata": {},
          "execution_count": 5
        }
      ]
    },
    {
      "cell_type": "markdown",
      "source": [
        "<a name='3'></a>\n",
        "## 3 - Convención de Matrices y Difusión (Broadcasting)\n",
        "\n",
        "Matemáticamente, la multiplicación de matrices está definida solo si el número de columnas de la matriz $A$ es igual al número de filas de la matriz $B$ (puedes revisar nuevamente la definición en la sección [1](#1) y ver que, de lo contrario, los productos punto entre filas y columnas no estarán definidos).\n",
        "\n",
        "Por lo tanto, en el ejemplo anterior ([2](#2)), cambiar el orden de las matrices al realizar la multiplicación $BA$ no funcionará, ya que la regla mencionada anteriormente ya no se cumple. Puedes comprobarlo ejecutando las celdas a continuación; ambas darán errores."
      ],
      "metadata": {
        "id": "liIrpxkP3AQJ"
      }
    },
    {
      "cell_type": "code",
      "source": [
        "try:\n",
        "  np.matmul(B,A)\n",
        "\n",
        "except ValueError as err:\n",
        "  print(err)"
      ],
      "metadata": {
        "colab": {
          "base_uri": "https://localhost:8080/"
        },
        "id": "fKemr3Z83GaK",
        "outputId": "ebfd6ed6-1877-4cf9-8ffe-115b341c157b"
      },
      "execution_count": null,
      "outputs": [
        {
          "output_type": "stream",
          "name": "stdout",
          "text": [
            "matmul: Input operand 1 has a mismatch in its core dimension 0, with gufunc signature (n?,k),(k,m?)->(n?,m?) (size 3 is different from 2)\n"
          ]
        }
      ]
    },
    {
      "cell_type": "code",
      "source": [
        "try:\n",
        "  B@A\n",
        "\n",
        "except ValueError as err:\n",
        "  print(err)"
      ],
      "metadata": {
        "colab": {
          "base_uri": "https://localhost:8080/"
        },
        "id": "lB0gp9SD3JER",
        "outputId": "81244b97-7754-4296-b9ee-d1dacefc8d42"
      },
      "execution_count": null,
      "outputs": [
        {
          "output_type": "stream",
          "name": "stdout",
          "text": [
            "matmul: Input operand 1 has a mismatch in its core dimension 0, with gufunc signature (n?,k),(k,m?)->(n?,m?) (size 3 is different from 2)\n"
          ]
        }
      ]
    },
    {
      "cell_type": "markdown",
      "source": [
        "Por lo tanto, al utilizar la multiplicación de matrices, debes tener mucho cuidado con las dimensiones: el número de columnas en la primera matriz debe coincidir con el número de filas en la segunda matriz. Esto es muy importante para tu comprensión futura de las Redes Neuronales y cómo funcionan.\n",
        "\n",
        "Sin embargo, para multiplicar vectores, `NumPy` tiene un atajo. Puedes definir dos vectores $x$ e $y$ del mismo tamaño (que se pueden entender como dos matrices $3 \\times 1$). Si verificas la forma del vector $x$, puedes ver que:"
      ],
      "metadata": {
        "id": "v91b6d453Lbx"
      }
    },
    {
      "cell_type": "code",
      "source": [
        "x=np.array([1,-2,-5])\n",
        "\n",
        "y=np.array([4,3,-1])\n",
        "\n",
        "print(\"Shape of Vector X:\",x.shape)\n",
        "print(\"Number of Dimensions of Vector X:\",x.ndim)\n",
        "print(\"Shape of Vector X, Reshaped to a Matrix\",x.reshape((3,1)).shape)\n",
        "print(\"Number of Dimensions of Vector X, Reshaped to a Matrix:\",x.reshape((3,1)).ndim)"
      ],
      "metadata": {
        "colab": {
          "base_uri": "https://localhost:8080/"
        },
        "id": "givgm-5J3np5",
        "outputId": "faa7dfe9-c263-490b-d67b-0b2824b7dbcd"
      },
      "execution_count": null,
      "outputs": [
        {
          "output_type": "stream",
          "name": "stdout",
          "text": [
            "Shape of Vector X: (3,)\n",
            "Number of Dimensions of Vector X: 1\n",
            "Shape of Vector X, Reshaped to a Matrix (3, 1)\n",
            "Number of Dimensions of Vector X, Reshaped to a Matrix: 2\n"
          ]
        }
      ]
    },
    {
      "cell_type": "markdown",
      "source": [
        "Siguiendo la convención de matrices, la multiplicación de matrices $3 \\times 1$ y $3 \\times 1$ no está definida. Para la multiplicación de matrices, esperarías un error en la siguiente celda, pero comprobemos la salida:"
      ],
      "metadata": {
        "id": "bMkvd3no3py4"
      }
    },
    {
      "cell_type": "code",
      "source": [
        "np.matmul(x,y)"
      ],
      "metadata": {
        "colab": {
          "base_uri": "https://localhost:8080/"
        },
        "id": "0p_6R_XL3tpx",
        "outputId": "57721db3-88bb-43c0-bd07-b108e99613e4"
      },
      "execution_count": null,
      "outputs": [
        {
          "output_type": "execute_result",
          "data": {
            "text/plain": [
              "np.int64(3)"
            ]
          },
          "metadata": {},
          "execution_count": 9
        }
      ]
    },
    {
      "cell_type": "markdown",
      "source": [
        "Puedes ver que no hay error y que el resultado es, de hecho, un producto punto $x \\cdot y\\,$. Así que, el vector $x$ se transpuso automáticamente al vector $1 \\times 3$ y se calculó la multiplicación de matrices $x^Ty$. Aunque esto es muy conveniente, debes tener en cuenta esta funcionalidad en Python y prestar atención para no usarla de manera incorrecta. La siguiente celda devolverá un error:"
      ],
      "metadata": {
        "id": "bcI6igpk3wix"
      }
    },
    {
      "cell_type": "code",
      "source": [
        "try:\n",
        "  np.matmul(x.reshape((3,1)), y.reshape((3,1)))\n",
        "\n",
        "except ValueError as err:\n",
        "  print(err)"
      ],
      "metadata": {
        "colab": {
          "base_uri": "https://localhost:8080/"
        },
        "id": "aD813MVc3xRR",
        "outputId": "b9ac9c2b-9f91-402f-8eec-bef1874099b4"
      },
      "execution_count": null,
      "outputs": [
        {
          "output_type": "stream",
          "name": "stdout",
          "text": [
            "matmul: Input operand 1 has a mismatch in its core dimension 0, with gufunc signature (n?,k),(k,m?)->(n?,m?) (size 3 is different from 1)\n"
          ]
        }
      ]
    },
    {
      "cell_type": "markdown",
      "source": [
        "Puede que te estés preguntando: ¿la función `np.dot()` también funciona para la multiplicación de matrices? Probémoslo:"
      ],
      "metadata": {
        "id": "14z-4Q0e31AS"
      }
    },
    {
      "cell_type": "code",
      "source": [
        "np.dot(A,B)"
      ],
      "metadata": {
        "colab": {
          "base_uri": "https://localhost:8080/"
        },
        "id": "NkNsaITO36Px",
        "outputId": "bd2b9103-e650-420f-c11c-2f22ccd4539b"
      },
      "execution_count": null,
      "outputs": [
        {
          "output_type": "execute_result",
          "data": {
            "text/plain": [
              "array([[ 89, 107],\n",
              "       [ 47,  49],\n",
              "       [ 40,  44]])"
            ]
          },
          "metadata": {},
          "execution_count": 11
        }
      ]
    },
    {
      "cell_type": "markdown",
      "source": [
        "¡Sí, funciona! Lo que realmente sucede es lo que se llama **difusión** en Python: `NumPy` difunde esta operación de producto punto a todas las filas y columnas, obteniendo la matriz de producto resultante. La difusión también funciona en otros casos, por ejemplo:"
      ],
      "metadata": {
        "id": "HPIjWd1r38bJ"
      }
    },
    {
      "cell_type": "code",
      "source": [
        "A-2"
      ],
      "metadata": {
        "colab": {
          "base_uri": "https://localhost:8080/"
        },
        "id": "Jnre4TKW3_JK",
        "outputId": "99fd7a7f-559e-43ee-d644-33ddaec14816"
      },
      "execution_count": null,
      "outputs": [
        {
          "output_type": "execute_result",
          "data": {
            "text/plain": [
              "array([[ 2,  7,  7],\n",
              "       [ 7, -1,  4],\n",
              "       [ 7,  0,  1]])"
            ]
          },
          "metadata": {},
          "execution_count": 12
        }
      ]
    },
    {
      "cell_type": "markdown",
      "source": [
        "Matemáticamente, la resta de la matriz $3 \\times 3$ $A$ y un escalar no está definida, pero Python difunde el escalar, creando un `np.array` de $3 \\times 3$ y realizando la resta elemento por elemento. Un ejemplo práctico de multiplicación de matrices se puede ver en un modelo de regresión lineal. ¡Lo implementarás en la tarea de esta semana!"
      ],
      "metadata": {
        "id": "jzDdi3Hp4B8x"
      }
    }
  ]
}