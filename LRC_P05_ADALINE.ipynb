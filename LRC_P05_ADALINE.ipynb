{
  "nbformat": 4,
  "nbformat_minor": 0,
  "metadata": {
    "colab": {
      "provenance": [],
      "include_colab_link": true
    },
    "kernelspec": {
      "name": "python3",
      "display_name": "Python 3"
    },
    "language_info": {
      "name": "python"
    }
  },
  "cells": [
    {
      "cell_type": "markdown",
      "metadata": {
        "id": "view-in-github",
        "colab_type": "text"
      },
      "source": [
        "<a href=\"https://colab.research.google.com/github/LAUROJAS3/Seminario_RN/blob/main/LRC_P05_ADALINE.ipynb\" target=\"_parent\"><img src=\"https://colab.research.google.com/assets/colab-badge.svg\" alt=\"Open In Colab\"/></a>"
      ]
    },
    {
      "cell_type": "code",
      "execution_count": null,
      "metadata": {
        "id": "ptmThT7xofYQ",
        "outputId": "09112387-12fd-4c4e-fc96-2094deb872d8",
        "colab": {
          "base_uri": "https://localhost:8080/",
          "height": 106
        }
      },
      "outputs": [
        {
          "output_type": "error",
          "ename": "SyntaxError",
          "evalue": "incomplete input (<ipython-input-65-9ba85e981e1c>, line 2)",
          "traceback": [
            "\u001b[0;36m  File \u001b[0;32m\"<ipython-input-65-9ba85e981e1c>\"\u001b[0;36m, line \u001b[0;32m2\u001b[0m\n\u001b[0;31m    \"\"\"\u001b[0m\n\u001b[0m    ^\u001b[0m\n\u001b[0;31mSyntaxError\u001b[0m\u001b[0;31m:\u001b[0m incomplete input\n"
          ]
        }
      ],
      "source": [
        "#AND GATE\n",
        "\"\"\"\n",
        "data = [[0, 0],\n",
        "        [0, 1],\n",
        "        [1, 0],\n",
        "        [1,  1]]\n",
        "\n",
        "target = [0,\n",
        "          0,\n",
        "          0,\n",
        "          1]"
      ]
    },
    {
      "cell_type": "code",
      "source": [
        "#OR GATE\n",
        "\n",
        "data = [[0, 0],\n",
        "        [0, 1],\n",
        "        [1, 0],\n",
        "        [1,  1]]\n",
        "\n",
        "target = [0,\n",
        "          1,\n",
        "          1,\n",
        "          1 ]"
      ],
      "metadata": {
        "id": "V6Av3nW0k9Sc"
      },
      "execution_count": null,
      "outputs": []
    },
    {
      "cell_type": "code",
      "source": [
        "print(\"target\", data)\n",
        "print(\"target\", data)"
      ],
      "metadata": {
        "colab": {
          "base_uri": "https://localhost:8080/"
        },
        "id": "PSxRR5MTlT7X",
        "outputId": "58e9f5b6-511e-44c0-e1fc-1e2f7118cbcf"
      },
      "execution_count": null,
      "outputs": [
        {
          "output_type": "stream",
          "name": "stdout",
          "text": [
            "target [[0, 0], [0, 1], [1, 0], [1, 1]]\n",
            "target [[0, 0], [0, 1], [1, 0], [1, 1]]\n"
          ]
        }
      ]
    },
    {
      "cell_type": "code",
      "source": [
        "from tabulate import tabulate\n",
        "\n",
        "w1 = 0.5\n",
        "w2 = 0.5\n",
        "b = 0.5\n",
        "\n",
        "lr = 0.5\n",
        "iterations = 10\n",
        "\n",
        "data_out = []\n",
        "weights = [[w1, w2, b]]\n",
        "\n",
        "for epoch in range(iterations):\n",
        "    for x, y in zip(data, target):\n",
        "        yin = w1 * x[0] + w2 * x[1] + b\n",
        "\n",
        "        # Función de activación\n",
        "        yin = 1 if yin >= 0.5 else 0\n",
        "\n",
        "        e = y - yin\n",
        "\n",
        "        if y != yin:  # Actualización de pesos\n",
        "            w1 += lr * e * x[0]\n",
        "            w2 += lr * e * x[1]\n",
        "            b += lr * e\n",
        "\n",
        "            # Guardar los pesos actualizados\n",
        "            weights.append([w1, w2, b])\n",
        "\n",
        "        data_out.append([epoch, x[0], x[1], yin, yout, y, e, w1, w2, b, y != yout])\n",
        "\n",
        "    data_out.append(['-', '-', '-', '-', '-', '-', '-', '-', '-', '-', '-'])\n",
        "\n",
        "print(tabulate(data_out, headers=['Epoch', 'x1', 'x2', 'yin', 'y', 't', 'e', 'w1', 'w2', 'b', 'update']))\n"
      ],
      "metadata": {
        "colab": {
          "base_uri": "https://localhost:8080/"
        },
        "id": "2E7sgljXmCnM",
        "outputId": "d7ec4f34-41ef-4010-c80a-df2ee205c0d0"
      },
      "execution_count": null,
      "outputs": [
        {
          "output_type": "stream",
          "name": "stdout",
          "text": [
            "Epoch    x1    x2    yin    y    t    e    w1    w2    b    update\n",
            "-------  ----  ----  -----  ---  ---  ---  ----  ----  ---  --------\n",
            "0        0     0     1      1    0    -1   0.5   0.5   0.0  True\n",
            "0        0     1     1      1    1    0    0.5   0.5   0.0  False\n",
            "0        1     0     1      1    1    0    0.5   0.5   0.0  False\n",
            "0        1     1     1      1    1    0    0.5   0.5   0.0  False\n",
            "-        -     -     -      -    -    -    -     -     -    -\n",
            "1        0     0     0      1    0    0    0.5   0.5   0.0  True\n",
            "1        0     1     1      1    1    0    0.5   0.5   0.0  False\n",
            "1        1     0     1      1    1    0    0.5   0.5   0.0  False\n",
            "1        1     1     1      1    1    0    0.5   0.5   0.0  False\n",
            "-        -     -     -      -    -    -    -     -     -    -\n",
            "2        0     0     0      1    0    0    0.5   0.5   0.0  True\n",
            "2        0     1     1      1    1    0    0.5   0.5   0.0  False\n",
            "2        1     0     1      1    1    0    0.5   0.5   0.0  False\n",
            "2        1     1     1      1    1    0    0.5   0.5   0.0  False\n",
            "-        -     -     -      -    -    -    -     -     -    -\n",
            "3        0     0     0      1    0    0    0.5   0.5   0.0  True\n",
            "3        0     1     1      1    1    0    0.5   0.5   0.0  False\n",
            "3        1     0     1      1    1    0    0.5   0.5   0.0  False\n",
            "3        1     1     1      1    1    0    0.5   0.5   0.0  False\n",
            "-        -     -     -      -    -    -    -     -     -    -\n",
            "4        0     0     0      1    0    0    0.5   0.5   0.0  True\n",
            "4        0     1     1      1    1    0    0.5   0.5   0.0  False\n",
            "4        1     0     1      1    1    0    0.5   0.5   0.0  False\n",
            "4        1     1     1      1    1    0    0.5   0.5   0.0  False\n",
            "-        -     -     -      -    -    -    -     -     -    -\n",
            "5        0     0     0      1    0    0    0.5   0.5   0.0  True\n",
            "5        0     1     1      1    1    0    0.5   0.5   0.0  False\n",
            "5        1     0     1      1    1    0    0.5   0.5   0.0  False\n",
            "5        1     1     1      1    1    0    0.5   0.5   0.0  False\n",
            "-        -     -     -      -    -    -    -     -     -    -\n",
            "6        0     0     0      1    0    0    0.5   0.5   0.0  True\n",
            "6        0     1     1      1    1    0    0.5   0.5   0.0  False\n",
            "6        1     0     1      1    1    0    0.5   0.5   0.0  False\n",
            "6        1     1     1      1    1    0    0.5   0.5   0.0  False\n",
            "-        -     -     -      -    -    -    -     -     -    -\n",
            "7        0     0     0      1    0    0    0.5   0.5   0.0  True\n",
            "7        0     1     1      1    1    0    0.5   0.5   0.0  False\n",
            "7        1     0     1      1    1    0    0.5   0.5   0.0  False\n",
            "7        1     1     1      1    1    0    0.5   0.5   0.0  False\n",
            "-        -     -     -      -    -    -    -     -     -    -\n",
            "8        0     0     0      1    0    0    0.5   0.5   0.0  True\n",
            "8        0     1     1      1    1    0    0.5   0.5   0.0  False\n",
            "8        1     0     1      1    1    0    0.5   0.5   0.0  False\n",
            "8        1     1     1      1    1    0    0.5   0.5   0.0  False\n",
            "-        -     -     -      -    -    -    -     -     -    -\n",
            "9        0     0     0      1    0    0    0.5   0.5   0.0  True\n",
            "9        0     1     1      1    1    0    0.5   0.5   0.0  False\n",
            "9        1     0     1      1    1    0    0.5   0.5   0.0  False\n",
            "9        1     1     1      1    1    0    0.5   0.5   0.0  False\n",
            "-        -     -     -      -    -    -    -     -     -    -\n"
          ]
        }
      ]
    },
    {
      "cell_type": "code",
      "source": [
        "import numpy as np\n",
        "import matplotlib.pyplot as plt\n",
        "\n",
        "a, b, c = w1, w2, b\n",
        "\n",
        "data_arr = np.array(data)\n",
        "\n",
        "x_min = min(data_arr[:, 0]-1)\n",
        "x_max = max(data_arr[:, 0]+1)\n",
        "\n",
        "x = np.linspace(x_min, x_max, 100)\n",
        "\n",
        "pairs = []\n",
        "\n",
        "for ws in weights:\n",
        "    it = [[xi, (-ws[2] - ws[0] * xi) / ws[1]] for xi in x]\n",
        "    pairs.append(it)\n",
        "\n",
        "data_arr = np.array(data)\n",
        "data_arr_x = data_arr[:, 0]\n",
        "data_arr_y = data_arr[:, 1]\n",
        "\n",
        "pairs = np.array(pairs)\n",
        "plt.figure(1)\n",
        "fig, axis = plt.subplots(2, 2)\n",
        "\n",
        "for idx, idy in zip (data_arr_x, data_arr_y):\n",
        "  axis[0,0].scatter(idx, idy)\n",
        "  axis[0,1].scatter(idx, idy)\n",
        "  #axis[0,2].scatter(idx, idy)\n",
        "  #axis[1,0].scatter(idx, idy)\n",
        "\n",
        "axis[0,0].scatter(pairs[0, :, 0], pairs[0, :, 1])\n",
        "axis[0,1].scatter(pairs[1, :, 0], pairs[1, :, 1])\n",
        "#axis[0,2].scatter(pairs[2, :, 0], pairs[2, :, 1])\n",
        "#axis[1,0].scatter(pairs[3, :, 0], pairs[3, :, 1])\n",
        "\n",
        "if len(pairs) > 0:\n",
        "    axis[0, 0].scatter(pairs[0, :, 0], pairs[0, :, 1])\n",
        "if len(pairs) > 1:\n",
        "    axis[0, 1].scatter(pairs[1, :, 0], pairs[1, :, 1])\n",
        "\n"
      ],
      "metadata": {
        "colab": {
          "base_uri": "https://localhost:8080/",
          "height": 447
        },
        "id": "sc73KUM0ZZmm",
        "outputId": "bd539b13-7fd5-4bf7-a493-72970965ab3b"
      },
      "execution_count": null,
      "outputs": [
        {
          "output_type": "display_data",
          "data": {
            "text/plain": [
              "<Figure size 640x480 with 0 Axes>"
            ]
          },
          "metadata": {}
        },
        {
          "output_type": "display_data",
          "data": {
            "text/plain": [
              "<Figure size 640x480 with 4 Axes>"
            ],
            "image/png": "[encoded data removed]"
          },
          "metadata": {}
        }
      ]
    },
    {
      "cell_type": "code",
      "source": [
        "import numpy as np\n",
        "import matplotlib.pyplot as plt\n",
        "\n",
        "a,b,c = w1,w2,b\n",
        "\n",
        "data_arr = np.array(data)\n",
        "x_min = min(data_arr[:, 0]) - 1\n",
        "x_max = max(data_arr[:, 0]) + 1\n",
        "x = np.linspace(x_min, x_max, 100)\n",
        "pairs = []\n",
        "\n",
        "for ws in weights:\n",
        "    it = [[xi, (-ws[2] - ws[0] * xi) / ws[1]] for xi in x]\n",
        "    pairs.append(it)\n",
        "\n",
        "data_arr_x = data_arr[:, 0]\n",
        "data_arr_y = data_arr[:, 1]\n",
        "pairs = np.array(pairs, dtype=object)\n",
        "\n",
        "plt.figure(1)\n",
        "fig, axis = plt.subplots(2, 3)\n",
        "\n",
        "for idx, idy in zip(data_arr_x, data_arr_y):\n",
        "    axis[0, 0].scatter(idx, idy)\n",
        "    axis[0, 1].scatter(idx, idy)\n",
        "    axis[0, 2].scatter(idx, idy)\n",
        "    axis[1, 0].scatter(idx, idy)\n",
        "\n",
        "if len(pairs) > 0:\n",
        "    axis[0, 0].scatter(pairs[0, :, 0], pairs[0, :, 1])\n",
        "if len(pairs) > 1:\n",
        "    axis[0, 1].scatter(pairs[1, :, 0], pairs[1, :, 1])"
      ],
      "metadata": {
        "id": "MSEfmJC6nkAr",
        "colab": {
          "base_uri": "https://localhost:8080/",
          "height": 447
        },
        "outputId": "b31b23a9-06f1-4f5e-ef52-fefffc5f4a2d"
      },
      "execution_count": null,
      "outputs": [
        {
          "output_type": "display_data",
          "data": {
            "text/plain": [
              "<Figure size 640x480 with 0 Axes>"
            ]
          },
          "metadata": {}
        },
        {
          "output_type": "display_data",
          "data": {
            "text/plain": [
              "<Figure size 640x480 with 6 Axes>"
            ],
            "image/png": "[encoded data removed]"
          },
          "metadata": {}
        }
      ]
    }
  ]
}